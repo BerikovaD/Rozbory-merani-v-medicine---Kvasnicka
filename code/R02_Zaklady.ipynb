{
  "nbformat": 4,
  "nbformat_minor": 0,
  "metadata": {
    "colab": {
      "name": "R02_Zaklady.ipynb",
      "provenance": [],
      "collapsed_sections": [],
      "authorship_tag": "ABX9TyMIEgV2UKzbpNO8MQLlBPXL",
      "include_colab_link": true
    },
    "kernelspec": {
      "name": "ir",
      "display_name": "R"
    }
  },
  "cells": [
    {
      "cell_type": "markdown",
      "metadata": {
        "id": "view-in-github",
        "colab_type": "text"
      },
      "source": [
        "<a href=\"https://colab.research.google.com/github/PKvasnick/RTutorial/blob/master/code/R02_Zaklady.ipynb\" target=\"_parent\"><img src=\"https://colab.research.google.com/assets/colab-badge.svg\" alt=\"Open In Colab\"/></a>"
      ]
    },
    {
      "cell_type": "markdown",
      "metadata": {
        "id": "BD-Bth4NoD1g"
      },
      "source": [
        "# Základy R\n",
        "\n",
        "... čo bude trocha nudná, ale nutná časť. Žiadna štatistika, ale dátové typy, príkazy, definície."
      ]
    },
    {
      "cell_type": "code",
      "metadata": {
        "id": "OJPRoOggpvIc",
        "outputId": "82193363-1a84-45a3-d427-43fa0469cf98",
        "colab": {
          "base_uri": "https://localhost:8080/",
          "height": 69
        }
      },
      "source": [
        "x <- 5.5\n",
        "x\n",
        "class(x)\n",
        "6.5 -> y # To sice vyzera sexy, ale je to len ozdoba.\n",
        "y"
      ],
      "execution_count": 1,
      "outputs": [
        {
          "output_type": "display_data",
          "data": {
            "text/plain": [
              "[1] 5.5"
            ],
            "text/latex": "5.5",
            "text/markdown": "5.5",
            "text/html": [
              "5.5"
            ]
          },
          "metadata": {
            "tags": []
          }
        },
        {
          "output_type": "display_data",
          "data": {
            "text/plain": [
              "[1] \"numeric\""
            ],
            "text/latex": "'numeric'",
            "text/markdown": "'numeric'",
            "text/html": [
              "'numeric'"
            ]
          },
          "metadata": {
            "tags": []
          }
        },
        {
          "output_type": "display_data",
          "data": {
            "text/plain": [
              "[1] 6.5"
            ],
            "text/latex": "6.5",
            "text/markdown": "6.5",
            "text/html": [
              "6.5"
            ]
          },
          "metadata": {
            "tags": []
          }
        }
      ]
    },
    {
      "cell_type": "markdown",
      "metadata": {
        "id": "eGZhr_g0qCPd"
      },
      "source": [
        "### Priradenie <-\n",
        "\n",
        "V R existujú viaceré znaky priradenia. Funguje *=*, *->*, ale aj *<-*, a špeciálny význam majú *<<-* a *->>* (Nechcete vedieť, čo robia). \n",
        "\n",
        "*=* slúži na mapovanie parametrov a v príkaze *case*, takže je slušné pre priradenie používať *<-*, hoci pre ľudí, ktorí programujú aj v inom jazyku, je ťažké občas nenapísať *=*. Vopred sa ospravedlňujem.\n",
        "\n",
        "### Číselné typy\n",
        "\n",
        "*numeric* je generické číslo v R. Ale máme aj ďalšie typy:"
      ]
    },
    {
      "cell_type": "code",
      "metadata": {
        "id": "dbthGNykTgDq",
        "outputId": "be9e426b-ed55-40c5-c47f-4b166c79db21",
        "colab": {
          "base_uri": "https://localhost:8080/",
          "height": 69
        }
      },
      "source": [
        "y <- 5\n",
        "class(y)\n",
        "y <- as.integer(5)\n",
        "class(y)\n",
        "is.integer(y)"
      ],
      "execution_count": 2,
      "outputs": [
        {
          "output_type": "display_data",
          "data": {
            "text/plain": [
              "[1] \"numeric\""
            ],
            "text/latex": "'numeric'",
            "text/markdown": "'numeric'",
            "text/html": [
              "'numeric'"
            ]
          },
          "metadata": {
            "tags": []
          }
        },
        {
          "output_type": "display_data",
          "data": {
            "text/plain": [
              "[1] \"integer\""
            ],
            "text/latex": "'integer'",
            "text/markdown": "'integer'",
            "text/html": [
              "'integer'"
            ]
          },
          "metadata": {
            "tags": []
          }
        },
        {
          "output_type": "display_data",
          "data": {
            "text/plain": [
              "[1] TRUE"
            ],
            "text/latex": "TRUE",
            "text/markdown": "TRUE",
            "text/html": [
              "TRUE"
            ]
          },
          "metadata": {
            "tags": []
          }
        }
      ]
    },
    {
      "cell_type": "markdown",
      "metadata": {
        "id": "dygbXPR2LPJw"
      },
      "source": [
        "Celé číslo musíme ako také definovať. \n",
        "\n",
        "### Reťazce\n"
      ]
    },
    {
      "cell_type": "code",
      "metadata": {
        "id": "tLgdvoDip70N",
        "outputId": "06bda39c-e02b-4ea9-c3f1-2e4febbf84fd",
        "colab": {
          "base_uri": "https://localhost:8080/",
          "height": 121
        }
      },
      "source": [
        "s <- \"Peter\"\n",
        "s == 'Peter'\n",
        "class(s)\n",
        "substring(s, first=2, last=3)\n",
        "s <- sub(\"ete\", \"avo\", s)\n",
        "s\n",
        "substring(s, 1:3, 3:5)\n",
        "sprintf(\"%s má %d rokov.\", \"Peter\", 54)"
      ],
      "execution_count": 3,
      "outputs": [
        {
          "output_type": "display_data",
          "data": {
            "text/plain": [
              "[1] TRUE"
            ],
            "text/latex": "TRUE",
            "text/markdown": "TRUE",
            "text/html": [
              "TRUE"
            ]
          },
          "metadata": {
            "tags": []
          }
        },
        {
          "output_type": "display_data",
          "data": {
            "text/plain": [
              "[1] \"character\""
            ],
            "text/latex": "'character'",
            "text/markdown": "'character'",
            "text/html": [
              "'character'"
            ]
          },
          "metadata": {
            "tags": []
          }
        },
        {
          "output_type": "display_data",
          "data": {
            "text/plain": [
              "[1] \"et\""
            ],
            "text/latex": "'et'",
            "text/markdown": "'et'",
            "text/html": [
              "'et'"
            ]
          },
          "metadata": {
            "tags": []
          }
        },
        {
          "output_type": "display_data",
          "data": {
            "text/plain": [
              "[1] \"Pavor\""
            ],
            "text/latex": "'Pavor'",
            "text/markdown": "'Pavor'",
            "text/html": [
              "'Pavor'"
            ]
          },
          "metadata": {
            "tags": []
          }
        },
        {
          "output_type": "display_data",
          "data": {
            "text/plain": [
              "[1] \"Pav\" \"avo\" \"vor\""
            ],
            "text/latex": "\\begin{enumerate*}\n\\item 'Pav'\n\\item 'avo'\n\\item 'vor'\n\\end{enumerate*}\n",
            "text/markdown": "1. 'Pav'\n2. 'avo'\n3. 'vor'\n\n\n",
            "text/html": [
              "<style>\n",
              ".list-inline {list-style: none; margin:0; padding: 0}\n",
              ".list-inline>li {display: inline-block}\n",
              ".list-inline>li:not(:last-child)::after {content: \"\\00b7\"; padding: 0 .5ex}\n",
              "</style>\n",
              "<ol class=list-inline><li>'Pav'</li><li>'avo'</li><li>'vor'</li></ol>\n"
            ]
          },
          "metadata": {
            "tags": []
          }
        },
        {
          "output_type": "display_data",
          "data": {
            "text/plain": [
              "[1] \"Peter má 54 rokov.\""
            ],
            "text/latex": "'Peter má 54 rokov.'",
            "text/markdown": "'Peter má 54 rokov.'",
            "text/html": [
              "'Peter má 54 rokov.'"
            ]
          },
          "metadata": {
            "tags": []
          }
        }
      ]
    },
    {
      "cell_type": "markdown",
      "metadata": {
        "id": "zMzUxQEALbmw"
      },
      "source": [
        "substring je *vektorizovaná* funkcia - pre vektorový argument vráti vektor.\n"
      ]
    },
    {
      "cell_type": "code",
      "metadata": {
        "id": "kdo6hcayUJMp",
        "outputId": "c9bea5d6-2b38-4a59-d92e-cc53318c3713",
        "colab": {
          "base_uri": "https://localhost:8080/",
          "height": 104
        }
      },
      "source": [
        "1:5\n",
        "sqrt(1:5)\n",
        "vec <- c(1,2,3,4,5,6) # toto je komentar o tom, ze c() vytvara vektor\n",
        "vec\n",
        "sin(vec)"
      ],
      "execution_count": 4,
      "outputs": [
        {
          "output_type": "display_data",
          "data": {
            "text/plain": [
              "[1] 1 2 3 4 5"
            ],
            "text/latex": "\\begin{enumerate*}\n\\item 1\n\\item 2\n\\item 3\n\\item 4\n\\item 5\n\\end{enumerate*}\n",
            "text/markdown": "1. 1\n2. 2\n3. 3\n4. 4\n5. 5\n\n\n",
            "text/html": [
              "<style>\n",
              ".list-inline {list-style: none; margin:0; padding: 0}\n",
              ".list-inline>li {display: inline-block}\n",
              ".list-inline>li:not(:last-child)::after {content: \"\\00b7\"; padding: 0 .5ex}\n",
              "</style>\n",
              "<ol class=list-inline><li>1</li><li>2</li><li>3</li><li>4</li><li>5</li></ol>\n"
            ]
          },
          "metadata": {
            "tags": []
          }
        },
        {
          "output_type": "display_data",
          "data": {
            "text/plain": [
              "[1] 1.000000 1.414214 1.732051 2.000000 2.236068"
            ],
            "text/latex": "\\begin{enumerate*}\n\\item 1\n\\item 1.4142135623731\n\\item 1.73205080756888\n\\item 2\n\\item 2.23606797749979\n\\end{enumerate*}\n",
            "text/markdown": "1. 1\n2. 1.4142135623731\n3. 1.73205080756888\n4. 2\n5. 2.23606797749979\n\n\n",
            "text/html": [
              "<style>\n",
              ".list-inline {list-style: none; margin:0; padding: 0}\n",
              ".list-inline>li {display: inline-block}\n",
              ".list-inline>li:not(:last-child)::after {content: \"\\00b7\"; padding: 0 .5ex}\n",
              "</style>\n",
              "<ol class=list-inline><li>1</li><li>1.4142135623731</li><li>1.73205080756888</li><li>2</li><li>2.23606797749979</li></ol>\n"
            ]
          },
          "metadata": {
            "tags": []
          }
        },
        {
          "output_type": "display_data",
          "data": {
            "text/plain": [
              "[1] 1 2 3 4 5 6"
            ],
            "text/latex": "\\begin{enumerate*}\n\\item 1\n\\item 2\n\\item 3\n\\item 4\n\\item 5\n\\item 6\n\\end{enumerate*}\n",
            "text/markdown": "1. 1\n2. 2\n3. 3\n4. 4\n5. 5\n6. 6\n\n\n",
            "text/html": [
              "<style>\n",
              ".list-inline {list-style: none; margin:0; padding: 0}\n",
              ".list-inline>li {display: inline-block}\n",
              ".list-inline>li:not(:last-child)::after {content: \"\\00b7\"; padding: 0 .5ex}\n",
              "</style>\n",
              "<ol class=list-inline><li>1</li><li>2</li><li>3</li><li>4</li><li>5</li><li>6</li></ol>\n"
            ]
          },
          "metadata": {
            "tags": []
          }
        },
        {
          "output_type": "display_data",
          "data": {
            "text/plain": [
              "[1]  0.8414710  0.9092974  0.1411200 -0.7568025 -0.9589243 -0.2794155"
            ],
            "text/latex": "\\begin{enumerate*}\n\\item 0.841470984807897\n\\item 0.909297426825682\n\\item 0.141120008059867\n\\item -0.756802495307928\n\\item -0.958924274663138\n\\item -0.279415498198926\n\\end{enumerate*}\n",
            "text/markdown": "1. 0.841470984807897\n2. 0.909297426825682\n3. 0.141120008059867\n4. -0.756802495307928\n5. -0.958924274663138\n6. -0.279415498198926\n\n\n",
            "text/html": [
              "<style>\n",
              ".list-inline {list-style: none; margin:0; padding: 0}\n",
              ".list-inline>li {display: inline-block}\n",
              ".list-inline>li:not(:last-child)::after {content: \"\\00b7\"; padding: 0 .5ex}\n",
              "</style>\n",
              "<ol class=list-inline><li>0.841470984807897</li><li>0.909297426825682</li><li>0.141120008059867</li><li>-0.756802495307928</li><li>-0.958924274663138</li><li>-0.279415498198926</li></ol>\n"
            ]
          },
          "metadata": {
            "tags": []
          }
        }
      ]
    },
    {
      "cell_type": "markdown",
      "metadata": {
        "id": "2MYJRBCkq2te"
      },
      "source": [
        "Apropos, máme \\[\\pi\\]?\n"
      ]
    },
    {
      "cell_type": "code",
      "metadata": {
        "id": "HuzIrj1qL4__",
        "outputId": "1779df15-c070-4d9d-bba8-bb1198b2a0c9",
        "colab": {
          "base_uri": "https://localhost:8080/",
          "height": 52
        }
      },
      "source": [
        "apropos(\"pi\")"
      ],
      "execution_count": 6,
      "outputs": [
        {
          "output_type": "display_data",
          "data": {
            "text/plain": [
              " [1] \"cospi\"        \"grouping\"     \"pi\"           \"pico\"         \"pictex\"      \n",
              " [6] \"pie\"          \"pipe\"         \"shapiro.test\" \"sinpi\"        \"spineplot\"   \n",
              "[11] \"stopifnot\"    \"Sys.getpid\"   \"tanpi\"       "
            ],
            "text/latex": "\\begin{enumerate*}\n\\item 'cospi'\n\\item 'grouping'\n\\item 'pi'\n\\item 'pico'\n\\item 'pictex'\n\\item 'pie'\n\\item 'pipe'\n\\item 'shapiro.test'\n\\item 'sinpi'\n\\item 'spineplot'\n\\item 'stopifnot'\n\\item 'Sys.getpid'\n\\item 'tanpi'\n\\end{enumerate*}\n",
            "text/markdown": "1. 'cospi'\n2. 'grouping'\n3. 'pi'\n4. 'pico'\n5. 'pictex'\n6. 'pie'\n7. 'pipe'\n8. 'shapiro.test'\n9. 'sinpi'\n10. 'spineplot'\n11. 'stopifnot'\n12. 'Sys.getpid'\n13. 'tanpi'\n\n\n",
            "text/html": [
              "<style>\n",
              ".list-inline {list-style: none; margin:0; padding: 0}\n",
              ".list-inline>li {display: inline-block}\n",
              ".list-inline>li:not(:last-child)::after {content: \"\\00b7\"; padding: 0 .5ex}\n",
              "</style>\n",
              "<ol class=list-inline><li>'cospi'</li><li>'grouping'</li><li>'pi'</li><li>'pico'</li><li>'pictex'</li><li>'pie'</li><li>'pipe'</li><li>'shapiro.test'</li><li>'sinpi'</li><li>'spineplot'</li><li>'stopifnot'</li><li>'Sys.getpid'</li><li>'tanpi'</li></ol>\n"
            ]
          },
          "metadata": {
            "tags": []
          }
        }
      ]
    },
    {
      "cell_type": "markdown",
      "metadata": {
        "id": "5coAPEuxMN5z"
      },
      "source": [
        "Aha - asi máme."
      ]
    },
    {
      "cell_type": "code",
      "metadata": {
        "id": "qa7Y-eySMZwo",
        "outputId": "7446b2a5-fdd9-4c49-9af5-63fa201e8b35",
        "colab": {
          "base_uri": "https://localhost:8080/",
          "height": 34
        }
      },
      "source": [
        "help(\"pi\")\n",
        "cos(pi)"
      ],
      "execution_count": 7,
      "outputs": [
        {
          "output_type": "display_data",
          "data": {
            "text/plain": [
              "[1] -1"
            ],
            "text/latex": "-1",
            "text/markdown": "-1",
            "text/html": [
              "-1"
            ]
          },
          "metadata": {
            "tags": []
          }
        }
      ]
    },
    {
      "cell_type": "markdown",
      "metadata": {
        "id": "51kTULWTrAkk"
      },
      "source": [
        "Kuk doprava.\n",
        "\n",
        "### Logické hodnoty"
      ]
    },
    {
      "cell_type": "code",
      "metadata": {
        "id": "1y2psIozMq_I",
        "outputId": "ee324cc8-238e-4e52-fdd3-9de2e9e1219b",
        "colab": {
          "base_uri": "https://localhost:8080/",
          "height": 86
        }
      },
      "source": [
        "class(TRUE)\n",
        "c(T,T,F,F) == c(T,F,T,F)\n",
        "c(T,T,F,F) & c(T,F,T,F)\n",
        "c(T,T,F,F) | c(T,F,T,F)"
      ],
      "execution_count": 8,
      "outputs": [
        {
          "output_type": "display_data",
          "data": {
            "text/plain": [
              "[1] \"logical\""
            ],
            "text/latex": "'logical'",
            "text/markdown": "'logical'",
            "text/html": [
              "'logical'"
            ]
          },
          "metadata": {
            "tags": []
          }
        },
        {
          "output_type": "display_data",
          "data": {
            "text/plain": [
              "[1]  TRUE FALSE FALSE  TRUE"
            ],
            "text/latex": "\\begin{enumerate*}\n\\item TRUE\n\\item FALSE\n\\item FALSE\n\\item TRUE\n\\end{enumerate*}\n",
            "text/markdown": "1. TRUE\n2. FALSE\n3. FALSE\n4. TRUE\n\n\n",
            "text/html": [
              "<style>\n",
              ".list-inline {list-style: none; margin:0; padding: 0}\n",
              ".list-inline>li {display: inline-block}\n",
              ".list-inline>li:not(:last-child)::after {content: \"\\00b7\"; padding: 0 .5ex}\n",
              "</style>\n",
              "<ol class=list-inline><li>TRUE</li><li>FALSE</li><li>FALSE</li><li>TRUE</li></ol>\n"
            ]
          },
          "metadata": {
            "tags": []
          }
        },
        {
          "output_type": "display_data",
          "data": {
            "text/plain": [
              "[1]  TRUE FALSE FALSE FALSE"
            ],
            "text/latex": "\\begin{enumerate*}\n\\item TRUE\n\\item FALSE\n\\item FALSE\n\\item FALSE\n\\end{enumerate*}\n",
            "text/markdown": "1. TRUE\n2. FALSE\n3. FALSE\n4. FALSE\n\n\n",
            "text/html": [
              "<style>\n",
              ".list-inline {list-style: none; margin:0; padding: 0}\n",
              ".list-inline>li {display: inline-block}\n",
              ".list-inline>li:not(:last-child)::after {content: \"\\00b7\"; padding: 0 .5ex}\n",
              "</style>\n",
              "<ol class=list-inline><li>TRUE</li><li>FALSE</li><li>FALSE</li><li>FALSE</li></ol>\n"
            ]
          },
          "metadata": {
            "tags": []
          }
        },
        {
          "output_type": "display_data",
          "data": {
            "text/plain": [
              "[1]  TRUE  TRUE  TRUE FALSE"
            ],
            "text/latex": "\\begin{enumerate*}\n\\item TRUE\n\\item TRUE\n\\item TRUE\n\\item FALSE\n\\end{enumerate*}\n",
            "text/markdown": "1. TRUE\n2. TRUE\n3. TRUE\n4. FALSE\n\n\n",
            "text/html": [
              "<style>\n",
              ".list-inline {list-style: none; margin:0; padding: 0}\n",
              ".list-inline>li {display: inline-block}\n",
              ".list-inline>li:not(:last-child)::after {content: \"\\00b7\"; padding: 0 .5ex}\n",
              "</style>\n",
              "<ol class=list-inline><li>TRUE</li><li>TRUE</li><li>TRUE</li><li>FALSE</li></ol>\n"
            ]
          },
          "metadata": {
            "tags": []
          }
        }
      ]
    },
    {
      "cell_type": "markdown",
      "metadata": {
        "id": "RuaW526ErUIV"
      },
      "source": [
        "### Vektory"
      ]
    },
    {
      "cell_type": "code",
      "metadata": {
        "id": "kLawuGXTrawO",
        "outputId": "67243db9-cb95-491d-b736-ca858a94d175",
        "colab": {
          "base_uri": "https://localhost:8080/",
          "height": 139
        }
      },
      "source": [
        "1:3 == c(1,2,3)\n",
        "help(seq)\n",
        "vec1 <- seq(from = 1, to = 10, by = 3)\n",
        "vec1\n",
        "vec2 <- seq(from = 1, by = 2, length.out = 5)\n",
        "vec2\n",
        "vec3 <- seq(from = 1, to = 10, length.out = 4)\n",
        "vec3\n",
        "vec4 <- seq(from = 0, by = 1, along.with = vec3)\n",
        "vec4\n",
        "all.equal(vec1, vec3)\n",
        "ifelse(vec1>5,\"Yes\", \"No\")"
      ],
      "execution_count": 9,
      "outputs": [
        {
          "output_type": "display_data",
          "data": {
            "text/plain": [
              "[1] TRUE TRUE TRUE"
            ],
            "text/latex": "\\begin{enumerate*}\n\\item TRUE\n\\item TRUE\n\\item TRUE\n\\end{enumerate*}\n",
            "text/markdown": "1. TRUE\n2. TRUE\n3. TRUE\n\n\n",
            "text/html": [
              "<style>\n",
              ".list-inline {list-style: none; margin:0; padding: 0}\n",
              ".list-inline>li {display: inline-block}\n",
              ".list-inline>li:not(:last-child)::after {content: \"\\00b7\"; padding: 0 .5ex}\n",
              "</style>\n",
              "<ol class=list-inline><li>TRUE</li><li>TRUE</li><li>TRUE</li></ol>\n"
            ]
          },
          "metadata": {
            "tags": []
          }
        },
        {
          "output_type": "display_data",
          "data": {
            "text/plain": [
              "[1]  1  4  7 10"
            ],
            "text/latex": "\\begin{enumerate*}\n\\item 1\n\\item 4\n\\item 7\n\\item 10\n\\end{enumerate*}\n",
            "text/markdown": "1. 1\n2. 4\n3. 7\n4. 10\n\n\n",
            "text/html": [
              "<style>\n",
              ".list-inline {list-style: none; margin:0; padding: 0}\n",
              ".list-inline>li {display: inline-block}\n",
              ".list-inline>li:not(:last-child)::after {content: \"\\00b7\"; padding: 0 .5ex}\n",
              "</style>\n",
              "<ol class=list-inline><li>1</li><li>4</li><li>7</li><li>10</li></ol>\n"
            ]
          },
          "metadata": {
            "tags": []
          }
        },
        {
          "output_type": "display_data",
          "data": {
            "text/plain": [
              "[1] 1 3 5 7 9"
            ],
            "text/latex": "\\begin{enumerate*}\n\\item 1\n\\item 3\n\\item 5\n\\item 7\n\\item 9\n\\end{enumerate*}\n",
            "text/markdown": "1. 1\n2. 3\n3. 5\n4. 7\n5. 9\n\n\n",
            "text/html": [
              "<style>\n",
              ".list-inline {list-style: none; margin:0; padding: 0}\n",
              ".list-inline>li {display: inline-block}\n",
              ".list-inline>li:not(:last-child)::after {content: \"\\00b7\"; padding: 0 .5ex}\n",
              "</style>\n",
              "<ol class=list-inline><li>1</li><li>3</li><li>5</li><li>7</li><li>9</li></ol>\n"
            ]
          },
          "metadata": {
            "tags": []
          }
        },
        {
          "output_type": "display_data",
          "data": {
            "text/plain": [
              "[1]  1  4  7 10"
            ],
            "text/latex": "\\begin{enumerate*}\n\\item 1\n\\item 4\n\\item 7\n\\item 10\n\\end{enumerate*}\n",
            "text/markdown": "1. 1\n2. 4\n3. 7\n4. 10\n\n\n",
            "text/html": [
              "<style>\n",
              ".list-inline {list-style: none; margin:0; padding: 0}\n",
              ".list-inline>li {display: inline-block}\n",
              ".list-inline>li:not(:last-child)::after {content: \"\\00b7\"; padding: 0 .5ex}\n",
              "</style>\n",
              "<ol class=list-inline><li>1</li><li>4</li><li>7</li><li>10</li></ol>\n"
            ]
          },
          "metadata": {
            "tags": []
          }
        },
        {
          "output_type": "display_data",
          "data": {
            "text/plain": [
              "[1] 0 1 2 3"
            ],
            "text/latex": "\\begin{enumerate*}\n\\item 0\n\\item 1\n\\item 2\n\\item 3\n\\end{enumerate*}\n",
            "text/markdown": "1. 0\n2. 1\n3. 2\n4. 3\n\n\n",
            "text/html": [
              "<style>\n",
              ".list-inline {list-style: none; margin:0; padding: 0}\n",
              ".list-inline>li {display: inline-block}\n",
              ".list-inline>li:not(:last-child)::after {content: \"\\00b7\"; padding: 0 .5ex}\n",
              "</style>\n",
              "<ol class=list-inline><li>0</li><li>1</li><li>2</li><li>3</li></ol>\n"
            ]
          },
          "metadata": {
            "tags": []
          }
        },
        {
          "output_type": "display_data",
          "data": {
            "text/plain": [
              "[1] TRUE"
            ],
            "text/latex": "TRUE",
            "text/markdown": "TRUE",
            "text/html": [
              "TRUE"
            ]
          },
          "metadata": {
            "tags": []
          }
        },
        {
          "output_type": "display_data",
          "data": {
            "text/plain": [
              "[1] \"No\"  \"No\"  \"Yes\" \"Yes\""
            ],
            "text/latex": "\\begin{enumerate*}\n\\item 'No'\n\\item 'No'\n\\item 'Yes'\n\\item 'Yes'\n\\end{enumerate*}\n",
            "text/markdown": "1. 'No'\n2. 'No'\n3. 'Yes'\n4. 'Yes'\n\n\n",
            "text/html": [
              "<style>\n",
              ".list-inline {list-style: none; margin:0; padding: 0}\n",
              ".list-inline>li {display: inline-block}\n",
              ".list-inline>li:not(:last-child)::after {content: \"\\00b7\"; padding: 0 .5ex}\n",
              "</style>\n",
              "<ol class=list-inline><li>'No'</li><li>'No'</li><li>'Yes'</li><li>'Yes'</li></ol>\n"
            ]
          },
          "metadata": {
            "tags": []
          }
        }
      ]
    },
    {
      "cell_type": "markdown",
      "metadata": {
        "id": "dunfbVNBri91"
      },
      "source": [
        "Dvojbodka nám umožňuje pohodlne vytvárať číselné rady. \n",
        "\n",
        "### Zoznam (list) \n",
        "\n",
        "je vektor s pomenovanými prvkami. \n"
      ]
    },
    {
      "cell_type": "code",
      "metadata": {
        "id": "KuebEd_lrzcn",
        "outputId": "937884ed-fddb-40af-e85c-a5534a78c046",
        "colab": {
          "base_uri": "https://localhost:8080/",
          "height": 34
        }
      },
      "source": [
        "vec <- 1:4\n",
        "names(vec) <- c(\"jeden\", \"dva\", \"tri\", \"štyri\")\n",
        "vec"
      ],
      "execution_count": 11,
      "outputs": [
        {
          "output_type": "display_data",
          "data": {
            "text/plain": [
              "jeden   dva   tri štyri \n",
              "    1     2     3     4 "
            ],
            "text/latex": "\\begin{description*}\n\\item[jeden] 1\n\\item[dva] 2\n\\item[tri] 3\n\\item[štyri] 4\n\\end{description*}\n",
            "text/markdown": "jeden\n:   1dva\n:   2tri\n:   3štyri\n:   4\n\n",
            "text/html": [
              "<style>\n",
              ".dl-inline {width: auto; margin:0; padding: 0}\n",
              ".dl-inline>dt, .dl-inline>dd {float: none; width: auto; display: inline-block}\n",
              ".dl-inline>dt::after {content: \":\\0020\"; padding-right: .5ex}\n",
              ".dl-inline>dt:not(:first-of-type) {padding-left: .5ex}\n",
              "</style><dl class=dl-inline><dt>jeden</dt><dd>1</dd><dt>dva</dt><dd>2</dd><dt>tri</dt><dd>3</dd><dt>štyri</dt><dd>4</dd></dl>\n"
            ]
          },
          "metadata": {
            "tags": []
          }
        }
      ]
    },
    {
      "cell_type": "markdown",
      "metadata": {
        "id": "53_c4PH8sL3l"
      },
      "source": [
        "### Data frame\n",
        "* Logicky vzniká spojením zoznamov s rovnakými menami položiek. \n",
        "* Fyzicky to je skôr zoznam vektorov."
      ]
    },
    {
      "cell_type": "code",
      "metadata": {
        "id": "DEJlV37esPGt",
        "outputId": "393b7667-3962-4328-f4a0-bb1c60d641b6",
        "colab": {
          "base_uri": "https://localhost:8080/",
          "height": 370
        }
      },
      "source": [
        "x <- data.frame(\n",
        "  v1 = c(1,2,3,4),\n",
        "  v2 = as.integer(c(0,0,1,1)),\n",
        "  v3 = c(\"a\",\"b\",\"a\",\"b\")\n",
        ")\n",
        "x\n",
        "x$v1 # stlpec\n",
        "x$v2[2] # element\n",
        "x[2,\"v1\"] # element\n",
        "x[2,] # riadok\n",
        "x$v3 \n",
        "is.factor(x$v3)\n",
        "nrow(x) # pocet riadkov\n",
        "ncol(x) # pocet stlpcov"
      ],
      "execution_count": 12,
      "outputs": [
        {
          "output_type": "display_data",
          "data": {
            "text/plain": [
              "  v1 v2 v3\n",
              "1 1  0  a \n",
              "2 2  0  b \n",
              "3 3  1  a \n",
              "4 4  1  b "
            ],
            "text/latex": "A data.frame: 4 × 3\n\\begin{tabular}{lll}\n v1 & v2 & v3\\\\\n <dbl> & <int> & <chr>\\\\\n\\hline\n\t 1 & 0 & a\\\\\n\t 2 & 0 & b\\\\\n\t 3 & 1 & a\\\\\n\t 4 & 1 & b\\\\\n\\end{tabular}\n",
            "text/markdown": "\nA data.frame: 4 × 3\n\n| v1 &lt;dbl&gt; | v2 &lt;int&gt; | v3 &lt;chr&gt; |\n|---|---|---|\n| 1 | 0 | a |\n| 2 | 0 | b |\n| 3 | 1 | a |\n| 4 | 1 | b |\n\n",
            "text/html": [
              "<table>\n",
              "<caption>A data.frame: 4 × 3</caption>\n",
              "<thead>\n",
              "\t<tr><th scope=col>v1</th><th scope=col>v2</th><th scope=col>v3</th></tr>\n",
              "\t<tr><th scope=col>&lt;dbl&gt;</th><th scope=col>&lt;int&gt;</th><th scope=col>&lt;chr&gt;</th></tr>\n",
              "</thead>\n",
              "<tbody>\n",
              "\t<tr><td>1</td><td>0</td><td>a</td></tr>\n",
              "\t<tr><td>2</td><td>0</td><td>b</td></tr>\n",
              "\t<tr><td>3</td><td>1</td><td>a</td></tr>\n",
              "\t<tr><td>4</td><td>1</td><td>b</td></tr>\n",
              "</tbody>\n",
              "</table>\n"
            ]
          },
          "metadata": {
            "tags": []
          }
        },
        {
          "output_type": "display_data",
          "data": {
            "text/plain": [
              "[1] 1 2 3 4"
            ],
            "text/latex": "\\begin{enumerate*}\n\\item 1\n\\item 2\n\\item 3\n\\item 4\n\\end{enumerate*}\n",
            "text/markdown": "1. 1\n2. 2\n3. 3\n4. 4\n\n\n",
            "text/html": [
              "<style>\n",
              ".list-inline {list-style: none; margin:0; padding: 0}\n",
              ".list-inline>li {display: inline-block}\n",
              ".list-inline>li:not(:last-child)::after {content: \"\\00b7\"; padding: 0 .5ex}\n",
              "</style>\n",
              "<ol class=list-inline><li>1</li><li>2</li><li>3</li><li>4</li></ol>\n"
            ]
          },
          "metadata": {
            "tags": []
          }
        },
        {
          "output_type": "display_data",
          "data": {
            "text/plain": [
              "[1] 0"
            ],
            "text/latex": "0",
            "text/markdown": "0",
            "text/html": [
              "0"
            ]
          },
          "metadata": {
            "tags": []
          }
        },
        {
          "output_type": "display_data",
          "data": {
            "text/plain": [
              "[1] 2"
            ],
            "text/latex": "2",
            "text/markdown": "2",
            "text/html": [
              "2"
            ]
          },
          "metadata": {
            "tags": []
          }
        },
        {
          "output_type": "display_data",
          "data": {
            "text/plain": [
              "  v1 v2 v3\n",
              "2 2  0  b "
            ],
            "text/latex": "A data.frame: 1 × 3\n\\begin{tabular}{r|lll}\n  & v1 & v2 & v3\\\\\n  & <dbl> & <int> & <chr>\\\\\n\\hline\n\t2 & 2 & 0 & b\\\\\n\\end{tabular}\n",
            "text/markdown": "\nA data.frame: 1 × 3\n\n| <!--/--> | v1 &lt;dbl&gt; | v2 &lt;int&gt; | v3 &lt;chr&gt; |\n|---|---|---|---|\n| 2 | 2 | 0 | b |\n\n",
            "text/html": [
              "<table>\n",
              "<caption>A data.frame: 1 × 3</caption>\n",
              "<thead>\n",
              "\t<tr><th></th><th scope=col>v1</th><th scope=col>v2</th><th scope=col>v3</th></tr>\n",
              "\t<tr><th></th><th scope=col>&lt;dbl&gt;</th><th scope=col>&lt;int&gt;</th><th scope=col>&lt;chr&gt;</th></tr>\n",
              "</thead>\n",
              "<tbody>\n",
              "\t<tr><th scope=row>2</th><td>2</td><td>0</td><td>b</td></tr>\n",
              "</tbody>\n",
              "</table>\n"
            ]
          },
          "metadata": {
            "tags": []
          }
        },
        {
          "output_type": "display_data",
          "data": {
            "text/plain": [
              "[1] \"a\" \"b\" \"a\" \"b\""
            ],
            "text/latex": "\\begin{enumerate*}\n\\item 'a'\n\\item 'b'\n\\item 'a'\n\\item 'b'\n\\end{enumerate*}\n",
            "text/markdown": "1. 'a'\n2. 'b'\n3. 'a'\n4. 'b'\n\n\n",
            "text/html": [
              "<style>\n",
              ".list-inline {list-style: none; margin:0; padding: 0}\n",
              ".list-inline>li {display: inline-block}\n",
              ".list-inline>li:not(:last-child)::after {content: \"\\00b7\"; padding: 0 .5ex}\n",
              "</style>\n",
              "<ol class=list-inline><li>'a'</li><li>'b'</li><li>'a'</li><li>'b'</li></ol>\n"
            ]
          },
          "metadata": {
            "tags": []
          }
        },
        {
          "output_type": "display_data",
          "data": {
            "text/plain": [
              "[1] FALSE"
            ],
            "text/latex": "FALSE",
            "text/markdown": "FALSE",
            "text/html": [
              "FALSE"
            ]
          },
          "metadata": {
            "tags": []
          }
        },
        {
          "output_type": "display_data",
          "data": {
            "text/plain": [
              "[1] 4"
            ],
            "text/latex": "4",
            "text/markdown": "4",
            "text/html": [
              "4"
            ]
          },
          "metadata": {
            "tags": []
          }
        },
        {
          "output_type": "display_data",
          "data": {
            "text/plain": [
              "[1] 3"
            ],
            "text/latex": "3",
            "text/markdown": "3",
            "text/html": [
              "3"
            ]
          },
          "metadata": {
            "tags": []
          }
        }
      ]
    },
    {
      "cell_type": "markdown",
      "metadata": {
        "id": "S4hN8Zw3sbo9"
      },
      "source": [
        "### Príkazy R"
      ]
    },
    {
      "cell_type": "code",
      "metadata": {
        "id": "JhzIVsDTsYX0",
        "outputId": "5eab06ce-47d5-47de-8a98-7cc8cd1814c9",
        "colab": {
          "base_uri": "https://localhost:8080/",
          "height": 201
        }
      },
      "source": [
        "for(i in 1:10) {\n",
        "  if (i %% 2 == 0) {\n",
        "    print(i)\n",
        "  } else {\n",
        "    print(paste(i, \"je\", \"neparne\"))\n",
        "  }\n",
        "}"
      ],
      "execution_count": 13,
      "outputs": [
        {
          "output_type": "stream",
          "text": [
            "[1] \"1 je neparne\"\n",
            "[1] 2\n",
            "[1] \"3 je neparne\"\n",
            "[1] 4\n",
            "[1] \"5 je neparne\"\n",
            "[1] 6\n",
            "[1] \"7 je neparne\"\n",
            "[1] 8\n",
            "[1] \"9 je neparne\"\n",
            "[1] 10\n"
          ],
          "name": "stdout"
        }
      ]
    },
    {
      "cell_type": "markdown",
      "metadata": {
        "id": "pph67rvSsqsS"
      },
      "source": [
        "### Funkcie"
      ]
    },
    {
      "cell_type": "code",
      "metadata": {
        "id": "m0nmKALPsuFO",
        "outputId": "ea0acef4-3b93-4741-c5e6-2113d7e25b83",
        "colab": {
          "base_uri": "https://localhost:8080/",
          "height": 34
        }
      },
      "source": [
        "factorial <- function(n)\n",
        "{\n",
        "  if (n==0 | n==1)\n",
        "    { return(1); }\n",
        "  else \n",
        "    { return(n * factorial(n-1)); }\n",
        "}\n",
        "\n",
        "factorial(10)"
      ],
      "execution_count": 14,
      "outputs": [
        {
          "output_type": "display_data",
          "data": {
            "text/plain": [
              "[1] 3628800"
            ],
            "text/latex": "3628800",
            "text/markdown": "3628800",
            "text/html": [
              "3628800"
            ]
          },
          "metadata": {
            "tags": []
          }
        }
      ]
    },
    {
      "cell_type": "markdown",
      "metadata": {
        "id": "6fVyG7eWs6eF"
      },
      "source": [
        "__return__ je funkcia!\n",
        "\n",
        "Použitie funkcie na vektor:\n",
        "\n",
        "* Ak je vnútro funkcie vektorizované, potom môžeme funkciu aplikovať na číslo i na vektor."
      ]
    },
    {
      "cell_type": "code",
      "metadata": {
        "id": "BOGr3xd1Puyv",
        "outputId": "5008ad62-3cc6-48a1-9392-509175b08a5b",
        "colab": {
          "base_uri": "https://localhost:8080/",
          "height": 34
        }
      },
      "source": [
        "kvadrat <- function(x)\n",
        "  return(x**2)\n",
        "\n",
        "kvadrat(1:5)"
      ],
      "execution_count": 20,
      "outputs": [
        {
          "output_type": "display_data",
          "data": {
            "text/plain": [
              "[1]  1  4  9 16 25"
            ],
            "text/latex": "\\begin{enumerate*}\n\\item 1\n\\item 4\n\\item 9\n\\item 16\n\\item 25\n\\end{enumerate*}\n",
            "text/markdown": "1. 1\n2. 4\n3. 9\n4. 16\n5. 25\n\n\n",
            "text/html": [
              "<style>\n",
              ".list-inline {list-style: none; margin:0; padding: 0}\n",
              ".list-inline>li {display: inline-block}\n",
              ".list-inline>li:not(:last-child)::after {content: \"\\00b7\"; padding: 0 .5ex}\n",
              "</style>\n",
              "<ol class=list-inline><li>1</li><li>4</li><li>9</li><li>16</li><li>25</li></ol>\n"
            ]
          },
          "metadata": {
            "tags": []
          }
        }
      ]
    },
    {
      "cell_type": "markdown",
      "metadata": {
        "id": "_GhEJmDnQwbl"
      },
      "source": [
        "* Ak vnútro funkcie nie je vektorizované (ako v nasledujúcom príklade funkcie min a max, musíme aplikovať funkciu na jednotlivé prvky vektora. "
      ]
    },
    {
      "cell_type": "code",
      "metadata": {
        "id": "6lCtN2LzO8ig",
        "outputId": "ebcb4d58-2881-4c4f-bc3f-caf4a92d83b9",
        "colab": {
          "base_uri": "https://localhost:8080/",
          "height": 437
        }
      },
      "source": [
        "my_clip <- function(x, a, b) # orezavacia funkcia\n",
        "{\n",
        "  return(min(b, max(a,x)))\n",
        "}\n",
        "\n",
        "vec = seq(from = -10, to = 10, by = 1)\n",
        "vec <- sapply(vec, my_clip, a = -5, b = 5); # potrebne argumenty pre funkciu napiseme za nu...\n",
        "vecx <- seq(from = 0, by = 1, along.with = vec)\n",
        "plot(vecx, vec, xlab = \"index\")"
      ],
      "execution_count": 21,
      "outputs": [
        {
          "output_type": "display_data",
          "data": {
            "image/png": "[encoded data removed]",
            "text/plain": [
              "plot without title"
            ]
          },
          "metadata": {
            "tags": [],
            "image/png": {
              "width": 420,
              "height": 420
            }
          }
        }
      ]
    },
    {
      "cell_type": "markdown",
      "metadata": {
        "id": "mL44Wh97PRgH"
      },
      "source": [
        "... nech máme aspoň nejaký graf v tomto nudnom notebooku.\n"
      ]
    }
  ]
}